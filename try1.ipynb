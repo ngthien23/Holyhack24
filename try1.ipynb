{
 "cells": [
  {
   "cell_type": "code",
   "execution_count": 29,
   "metadata": {},
   "outputs": [],
   "source": [
    "import pandas as pd\n",
    "from sklearn.model_selection import train_test_split\n",
    "from sklearn.feature_extraction.text import TfidfVectorizer\n",
    "from sklearn.naive_bayes import MultinomialNB\n",
    "from sklearn.metrics import accuracy_score, classification_report\n",
    "\n",
    "file_path = 'dataset.xlsx'\n",
    "\n",
    "# Read the Excel file into a pandas DataFrame\n",
    "df = pd.read_excel(file_path)"
   ]
  },
  {
   "cell_type": "code",
   "execution_count": 18,
   "metadata": {},
   "outputs": [
    {
     "name": "stdout",
     "output_type": "stream",
     "text": [
      "Unique Flags:\n",
      "The cost was declared in the wrong category\n",
      "double declaration\n",
      "please specify the correct invoiced amount\n",
      "Please specify the correct invoiced amount\n",
      "Costs that are declared too late, can only be reimbursed for 50%\n",
      "Purchase not eligible for subsidy\n",
      "please specify the correct supplier\n"
     ]
    }
   ],
   "source": [
    "# Extract unique flags from the \"FLC: REDEN VERWERPING\" column\n",
    "all_flags = df[\"FLC: REDEN VERWERPING\"].str.split('|', expand=True).stack().str.strip().unique()\n",
    "\n",
    "# Print the unique flags\n",
    "print(\"Unique Flags:\")\n",
    "for flag in all_flags:\n",
    "    print(flag)"
   ]
  },
  {
   "cell_type": "code",
   "execution_count": 19,
   "metadata": {},
   "outputs": [],
   "source": [
    "# Define the phrases to check for in the specified column\n",
    "phrases = {\n",
    "    \"FLC: REDEN VERWERPING\": {\n",
    "        \"The cost was declared in the wrong category\": \"category\",\n",
    "        \"double declaration\": \"double\",\n",
    "        \"correct invoiced amount\": \"amount\",\n",
    "        \"too late\": \"late\",\n",
    "        \"eligible\": \"eligible\",\n",
    "        \"supplier\": \"supplier\"\n",
    "    }\n",
    "}\n",
    "\n",
    "# Iterate through the phrases and update the corresponding columns\n",
    "for column_name, conditions in phrases.items():\n",
    "    for phrase, new_column in conditions.items():\n",
    "        df[new_column] = df[column_name].str.contains(phrase, case=False, na=False).astype(int)"
   ]
  },
  {
   "cell_type": "code",
   "execution_count": 21,
   "metadata": {},
   "outputs": [
    {
     "name": "stdout",
     "output_type": "stream",
     "text": [
      "    DATUM FACTUUR - DECLARED     latest\n",
      "0                 2022-12-23 2023-06-23\n",
      "1                 2020-12-12 2021-06-12\n",
      "2                 2018-04-25 2018-10-25\n",
      "3                 2021-12-28 2022-06-28\n",
      "4                 2021-05-08 2021-11-08\n",
      "..                       ...        ...\n",
      "489               2022-04-05 2022-10-05\n",
      "490               2019-02-16 2019-08-16\n",
      "491               2020-06-12 2020-12-12\n",
      "492               2021-06-20 2021-12-20\n",
      "493               2020-04-13 2020-10-13\n",
      "\n",
      "[494 rows x 2 columns]\n"
     ]
    }
   ],
   "source": [
    "# Convert the \"DATUM FACTUUR - DECLARED\" column to datetime format\n",
    "df['DATUM FACTUUR - DECLARED'] = pd.to_datetime(df['DATUM FACTUUR - DECLARED'], errors='coerce')\n",
    "\n",
    "# Create the \"latest\" column by moving the month 6 months forward\n",
    "df['latest'] = df['DATUM FACTUUR - DECLARED'] + pd.DateOffset(months=6)"
   ]
  },
  {
   "cell_type": "code",
   "execution_count": 22,
   "metadata": {},
   "outputs": [
    {
     "name": "stdout",
     "output_type": "stream",
     "text": [
      "        latest DECLARATIEDATUM (can be assumed to be close to payment date)  \\\n",
      "0   2023-06-23                                         2023-06-18             \n",
      "1   2021-06-12                                         2021-06-07             \n",
      "2   2018-10-25                                         2018-09-30             \n",
      "3   2022-06-28                                         2022-02-20             \n",
      "4   2021-11-08                                         2021-10-18             \n",
      "..         ...                                                ...             \n",
      "489 2022-10-05                                         2022-06-25             \n",
      "490 2019-08-16                                         2019-02-25             \n",
      "491 2020-12-12                                         2020-10-26             \n",
      "492 2021-12-20                                         2021-10-01             \n",
      "493 2020-10-13                                         2020-07-26             \n",
      "\n",
      "     timediff  \n",
      "0     -5 days  \n",
      "1     -5 days  \n",
      "2    -25 days  \n",
      "3   -128 days  \n",
      "4    -21 days  \n",
      "..        ...  \n",
      "489 -102 days  \n",
      "490 -172 days  \n",
      "491  -47 days  \n",
      "492  -80 days  \n",
      "493  -79 days  \n",
      "\n",
      "[494 rows x 3 columns]\n"
     ]
    }
   ],
   "source": [
    "# Convert date columns to datetime objects\n",
    "df['latest'] = pd.to_datetime(df['latest'])\n",
    "df['DECLARATIEDATUM (can be assumed to be close to payment date)'] = pd.to_datetime(df['DECLARATIEDATUM (can be assumed to be close to payment date)'])\n",
    "\n",
    "# Calculate the time difference and create a new column 'timediff'\n",
    "df['timediff'] = df['DECLARATIEDATUM (can be assumed to be close to payment date)'] - df['latest']"
   ]
  },
  {
   "cell_type": "code",
   "execution_count": 24,
   "metadata": {},
   "outputs": [],
   "source": [
    "# Calculate the time difference and create a new column 'timediff'\n",
    "df['amountdiff'] = df['BETAALD BEDRAG - extracted from invoice'] - df['BETAALD BEDRAG - declared ']"
   ]
  },
  {
   "cell_type": "code",
   "execution_count": 32,
   "metadata": {},
   "outputs": [
    {
     "name": "stdout",
     "output_type": "stream",
     "text": [
      "         LEVERANCIER - EXTRACTED       LEVERANCIER - DECLARED  suppdiff\n",
      "0                   Quick Travel                 Quick Travel     False\n",
      "1                       Taxi Joe                     Taxi Joe     False\n",
      "2    Barker and Barker analytics  Barker and Barker analytics     False\n",
      "3                       Law Firm                     Law Firm     False\n",
      "4          Scientific Equipment         Scientific Equipment      False\n",
      "..                           ...                          ...       ...\n",
      "489         BrochurePrinters Co.         BrochurePrinters Co.     False\n",
      "490            AeroLink Airlines            AeroLink Airlines     False\n",
      "491      EconoMetrics Consulting      EconoMetrics Consulting     False\n",
      "492             ArcheoTools Ltd.             ArcheoTools Ltd.     False\n",
      "493   CommunityBuild Renovations   CommunityBuild Renovations     False\n",
      "\n",
      "[494 rows x 3 columns]\n"
     ]
    }
   ],
   "source": [
    "# Create the \"suppdiff\" column by comparing \"LEVERANCIER - EXTRACTED\" and \"LEVERANCIER - DECLARED\"\n",
    "df['suppdiff'] = df['LEVERANCIER - EXTRACTED'] != df['LEVERANCIER - DECLARED']\n",
    "\n",
    "# Print the DataFrame with the new \"suppdiff\" column\n",
    "print(df[['LEVERANCIER - EXTRACTED', 'LEVERANCIER - DECLARED', 'suppdiff']])\n"
   ]
  },
  {
   "cell_type": "code",
   "execution_count": 37,
   "metadata": {},
   "outputs": [],
   "source": [
    "df2 = pd.read_excel('output_file.xlsx')\n",
    "\n",
    "# Filter rows where \"category\" column has value 0\n",
    "df2 = df2[df2['category'] == 0]\n",
    "\n",
    "# Save the filtered DataFrame to a CSV file\n",
    "df2.to_csv('cat_data.csv', index=False)"
   ]
  },
  {
   "cell_type": "code",
   "execution_count": 38,
   "metadata": {},
   "outputs": [
    {
     "name": "stdout",
     "output_type": "stream",
     "text": [
      "Accuracy: 0.89\n",
      "\n",
      "Classification Report:\n",
      "                             precision    recall  f1-score   support\n",
      "\n",
      "                  Equipment       0.95      0.95      0.95        19\n",
      "          External Services       0.83      0.91      0.87        22\n",
      "Infrastructure and building       0.94      0.94      0.94        16\n",
      "          Preparation Costs       0.00      0.00      0.00         1\n",
      "          Preparation costs       0.84      0.76      0.80        21\n",
      "               Travel costs       0.94      1.00      0.97        16\n",
      "\n",
      "                   accuracy                           0.89        95\n",
      "                  macro avg       0.75      0.76      0.75        95\n",
      "               weighted avg       0.89      0.89      0.89        95\n",
      "\n"
     ]
    },
    {
     "name": "stderr",
     "output_type": "stream",
     "text": [
      "c:\\Users\\camd1\\miniconda3\\envs\\holyhack\\Lib\\site-packages\\sklearn\\metrics\\_classification.py:1509: UndefinedMetricWarning: Precision is ill-defined and being set to 0.0 in labels with no predicted samples. Use `zero_division` parameter to control this behavior.\n",
      "  _warn_prf(average, modifier, f\"{metric.capitalize()} is\", len(result))\n",
      "c:\\Users\\camd1\\miniconda3\\envs\\holyhack\\Lib\\site-packages\\sklearn\\metrics\\_classification.py:1509: UndefinedMetricWarning: Precision is ill-defined and being set to 0.0 in labels with no predicted samples. Use `zero_division` parameter to control this behavior.\n",
      "  _warn_prf(average, modifier, f\"{metric.capitalize()} is\", len(result))\n",
      "c:\\Users\\camd1\\miniconda3\\envs\\holyhack\\Lib\\site-packages\\sklearn\\metrics\\_classification.py:1509: UndefinedMetricWarning: Precision is ill-defined and being set to 0.0 in labels with no predicted samples. Use `zero_division` parameter to control this behavior.\n",
      "  _warn_prf(average, modifier, f\"{metric.capitalize()} is\", len(result))\n"
     ]
    }
   ],
   "source": [
    "# Assuming your columns are named 'BESCHRIJVING DECLARATIE' and 'KOSTENRUBRIEK - declared'\n",
    "X = df2['BESCHRIJVING DECLARATIE']\n",
    "y = df2['KOSTENRUBRIEK - declared']\n",
    "\n",
    "# Split the dataset into training and testing sets\n",
    "X_train, X_test, y_train, y_test = train_test_split(X, y, test_size=0.2, random_state=42)\n",
    "\n",
    "# Vectorize the text data using TF-IDF\n",
    "vectorizer = TfidfVectorizer(stop_words='english')\n",
    "X_train_tfidf = vectorizer.fit_transform(X_train)\n",
    "X_test_tfidf = vectorizer.transform(X_test)\n",
    "\n",
    "# Train a Multinomial Naive Bayes classifier\n",
    "classifier = MultinomialNB()\n",
    "classifier.fit(X_train_tfidf, y_train)\n",
    "\n",
    "# Make predictions on the test set\n",
    "predictions = classifier.predict(X_test_tfidf)\n",
    "\n",
    "# Evaluate the model\n",
    "accuracy = accuracy_score(y_test, predictions)\n",
    "classification_rep = classification_report(y_test, predictions)\n",
    "\n",
    "print(f'Accuracy: {accuracy:.2f}')\n",
    "print('\\nClassification Report:')\n",
    "print(classification_rep)"
   ]
  },
  {
   "cell_type": "code",
   "execution_count": 28,
   "metadata": {},
   "outputs": [
    {
     "name": "stdout",
     "output_type": "stream",
     "text": [
      "Updated Excel file saved to: output_file.xlsx\n"
     ]
    }
   ],
   "source": [
    "# Save the updated DataFrame to a new Excel file\n",
    "output_file_path = 'output_file.xlsx'\n",
    "df.to_excel(output_file_path, index=False)\n",
    "\n",
    "print(f\"Updated Excel file saved to: {output_file_path}\")"
   ]
  }
 ],
 "metadata": {
  "kernelspec": {
   "display_name": "holyhack",
   "language": "python",
   "name": "python3"
  },
  "language_info": {
   "codemirror_mode": {
    "name": "ipython",
    "version": 3
   },
   "file_extension": ".py",
   "mimetype": "text/x-python",
   "name": "python",
   "nbconvert_exporter": "python",
   "pygments_lexer": "ipython3",
   "version": "3.12.2"
  }
 },
 "nbformat": 4,
 "nbformat_minor": 2
}
